{
 "cells": [
  {
   "cell_type": "code",
   "execution_count": 1,
   "metadata": {},
   "outputs": [],
   "source": [
    "import numpy as np\n",
    "\n",
    "import pandas as pd\n",
    "\n",
    "from pandas import Series,DataFrame\n",
    "\n",
    "# 画图\n",
    "from pylab import mpl\n",
    "import matplotlib.pyplot as plt\n",
    "%matplotlib inline"
   ]
  },
  {
   "cell_type": "code",
   "execution_count": 2,
   "metadata": {},
   "outputs": [],
   "source": [
    "# 指定默认字体：解决plot不能显示中文问题\n",
    "mpl.rcParams['font.sans-serif'] = ['Microsoft YaHei']\n",
    "# 解决保存图像是负号'-'显示为方块的问题\n",
    "mpl.rcParams['axes.unicode_minus'] = False"
   ]
  },
  {
   "cell_type": "code",
   "execution_count": 3,
   "metadata": {},
   "outputs": [
    {
     "data": {
      "text/plain": [
       "pandas.core.frame.DataFrame"
      ]
     },
     "execution_count": 3,
     "metadata": {},
     "output_type": "execute_result"
    }
   ],
   "source": [
    "data = pd.read_csv('./简书小部分文章.csv',sep=',',names=['id','title','content','author','origin_url','article_id','read_count','word_count','subjects'])\n",
    "type(data)"
   ]
  },
  {
   "cell_type": "code",
   "execution_count": 4,
   "metadata": {},
   "outputs": [
    {
     "data": {
      "text/html": [
       "<div>\n",
       "<style scoped>\n",
       "    .dataframe tbody tr th:only-of-type {\n",
       "        vertical-align: middle;\n",
       "    }\n",
       "\n",
       "    .dataframe tbody tr th {\n",
       "        vertical-align: top;\n",
       "    }\n",
       "\n",
       "    .dataframe thead th {\n",
       "        text-align: right;\n",
       "    }\n",
       "</style>\n",
       "<table border=\"1\" class=\"dataframe\">\n",
       "  <thead>\n",
       "    <tr style=\"text-align: right;\">\n",
       "      <th></th>\n",
       "      <th>id</th>\n",
       "      <th>title</th>\n",
       "      <th>content</th>\n",
       "      <th>author</th>\n",
       "      <th>origin_url</th>\n",
       "      <th>article_id</th>\n",
       "      <th>read_count</th>\n",
       "      <th>word_count</th>\n",
       "      <th>subjects</th>\n",
       "    </tr>\n",
       "  </thead>\n",
       "  <tbody>\n",
       "    <tr>\n",
       "      <td>0</td>\n",
       "      <td>1</td>\n",
       "      <td>千万别让人觉得你内向自卑好欺负，这三个方法，让人对你刮目相看</td>\n",
       "      <td>&lt;p&gt;&lt;b&gt;千万别让人觉得你内向自卑好欺负，这三个方法，让人对你刮目相看&lt;/b&gt;&lt;/p&gt;</td>\n",
       "      <td>蜗牛木子</td>\n",
       "      <td>https://www.jianshu.com/p/547901d6ab9f</td>\n",
       "      <td>547901d6ab9f</td>\n",
       "      <td>2551</td>\n",
       "      <td>1012</td>\n",
       "      <td>职场日更,职场,上班这点事儿,思维导图</td>\n",
       "    </tr>\n",
       "    <tr>\n",
       "      <td>1</td>\n",
       "      <td>2</td>\n",
       "      <td>有没有人和我一样喜欢吃午餐肉？</td>\n",
       "      <td>&lt;p&gt;很奇怪，我竟然喜欢吃午餐肉，来说说怎么做吧。&lt;/p&gt;</td>\n",
       "      <td>好吃的姜酱</td>\n",
       "      <td>https://www.jianshu.com/p/1720c14a2c9d</td>\n",
       "      <td>1720c14a2c9d</td>\n",
       "      <td>1748</td>\n",
       "      <td>265</td>\n",
       "      <td>美食,爱生活,瘦一点身食谱。,只要主义真ﾉ☀</td>\n",
       "    </tr>\n",
       "    <tr>\n",
       "      <td>2</td>\n",
       "      <td>3</td>\n",
       "      <td>SpUtil多样加密存储，兼容android9.0</td>\n",
       "      <td>&lt;p&gt;在android系统不断升级的过程中，Sharepreferences存储出现多中问题...</td>\n",
       "      <td>奔跑的佩恩</td>\n",
       "      <td>https://www.jianshu.com/p/bbf057ccbcff</td>\n",
       "      <td>bbf057ccbcff</td>\n",
       "      <td>794</td>\n",
       "      <td>1085</td>\n",
       "      <td>Android...,Android专题,Android</td>\n",
       "    </tr>\n",
       "    <tr>\n",
       "      <td>3</td>\n",
       "      <td>4</td>\n",
       "      <td>关于会员使用简书贝购买收益加成卡说明</td>\n",
       "      <td>&lt;p&gt;尊敬的简书会员用户：&lt;/p&gt;</td>\n",
       "      <td>简书钻首席小管家</td>\n",
       "      <td>https://www.jianshu.com/p/661ed3a5e672?utm_med...</td>\n",
       "      <td>661ed3a5e672</td>\n",
       "      <td>31034</td>\n",
       "      <td>469</td>\n",
       "      <td>悦目娱心 ,茶罐诗人投稿箱,简村,交易,北京公会,文无定法，写的好即行,简书 。中国美文精典</td>\n",
       "    </tr>\n",
       "    <tr>\n",
       "      <td>4</td>\n",
       "      <td>5</td>\n",
       "      <td>合作伙伴</td>\n",
       "      <td>&lt;p&gt;微信公众号合作伙伴（排名不分先后）&lt;/p&gt;</td>\n",
       "      <td>简书</td>\n",
       "      <td>https://www.jianshu.com/p/cabc8fa39830</td>\n",
       "      <td>cabc8fa39830</td>\n",
       "      <td>92673</td>\n",
       "      <td>15</td>\n",
       "      <td>针灸埋线,疼痛医学培训中心,简书探索与发展,开启美好生活</td>\n",
       "    </tr>\n",
       "  </tbody>\n",
       "</table>\n",
       "</div>"
      ],
      "text/plain": [
       "   id                           title  \\\n",
       "0   1  千万别让人觉得你内向自卑好欺负，这三个方法，让人对你刮目相看   \n",
       "1   2                 有没有人和我一样喜欢吃午餐肉？   \n",
       "2   3       SpUtil多样加密存储，兼容android9.0   \n",
       "3   4              关于会员使用简书贝购买收益加成卡说明   \n",
       "4   5                            合作伙伴   \n",
       "\n",
       "                                             content    author  \\\n",
       "0       <p><b>千万别让人觉得你内向自卑好欺负，这三个方法，让人对你刮目相看</b></p>      蜗牛木子   \n",
       "1                      <p>很奇怪，我竟然喜欢吃午餐肉，来说说怎么做吧。</p>     好吃的姜酱   \n",
       "2  <p>在android系统不断升级的过程中，Sharepreferences存储出现多中问题...     奔跑的佩恩   \n",
       "3                                  <p>尊敬的简书会员用户：</p>  简书钻首席小管家   \n",
       "4                           <p>微信公众号合作伙伴（排名不分先后）</p>        简书   \n",
       "\n",
       "                                          origin_url    article_id  \\\n",
       "0             https://www.jianshu.com/p/547901d6ab9f  547901d6ab9f   \n",
       "1             https://www.jianshu.com/p/1720c14a2c9d  1720c14a2c9d   \n",
       "2             https://www.jianshu.com/p/bbf057ccbcff  bbf057ccbcff   \n",
       "3  https://www.jianshu.com/p/661ed3a5e672?utm_med...  661ed3a5e672   \n",
       "4             https://www.jianshu.com/p/cabc8fa39830  cabc8fa39830   \n",
       "\n",
       "   read_count  word_count                                        subjects  \n",
       "0        2551        1012                             职场日更,职场,上班这点事儿,思维导图  \n",
       "1        1748         265                          美食,爱生活,瘦一点身食谱。,只要主义真ﾉ☀  \n",
       "2         794        1085                    Android...,Android专题,Android  \n",
       "3       31034         469  悦目娱心 ,茶罐诗人投稿箱,简村,交易,北京公会,文无定法，写的好即行,简书 。中国美文精典  \n",
       "4       92673          15                    针灸埋线,疼痛医学培训中心,简书探索与发展,开启美好生活  "
      ]
     },
     "execution_count": 4,
     "metadata": {},
     "output_type": "execute_result"
    }
   ],
   "source": [
    "data.head()"
   ]
  },
  {
   "cell_type": "markdown",
   "metadata": {},
   "source": [
    "### 阅读量前十"
   ]
  },
  {
   "cell_type": "code",
   "execution_count": 5,
   "metadata": {
    "scrolled": true
   },
   "outputs": [
    {
     "data": {
      "text/plain": [
       "(10, 9)"
      ]
     },
     "execution_count": 5,
     "metadata": {},
     "output_type": "execute_result"
    }
   ],
   "source": [
    "read_count_Ten = data.sort_values(by='read_count',ascending=False)[:10]\n",
    "read_count_Ten.shape"
   ]
  },
  {
   "cell_type": "code",
   "execution_count": 6,
   "metadata": {},
   "outputs": [
    {
     "data": {
      "text/plain": [
       "<matplotlib.axes._subplots.AxesSubplot at 0x18dae5e92c8>"
      ]
     },
     "execution_count": 6,
     "metadata": {},
     "output_type": "execute_result"
    },
    {
     "data": {
      "image/png": "[encoded data removed]",
      "text/plain": [
       "<Figure size 288x216 with 1 Axes>"
      ]
     },
     "metadata": {
      "needs_background": "light"
     },
     "output_type": "display_data"
    }
   ],
   "source": [
    "read_count_Ten.plot(x='title',y=['read_count'],kind='barh',figsize=(4,3),title='爬取简书部分文章中阅读量前十')"
   ]
  },
  {
   "cell_type": "code",
   "execution_count": 7,
   "metadata": {},
   "outputs": [],
   "source": [
    "# pd.pivot_table(data,values='read_count',index=['title'],aggfunc='max')"
   ]
  }
 ],
 "metadata": {
  "kernelspec": {
   "display_name": "Python 3",
   "language": "python",
   "name": "python3"
  },
  "language_info": {
   "codemirror_mode": {
    "name": "ipython",
    "version": 3
   },
   "file_extension": ".py",
   "mimetype": "text/x-python",
   "name": "python",
   "nbconvert_exporter": "python",
   "pygments_lexer": "ipython3",
   "version": "3.7.4"
  }
 },
 "nbformat": 4,
 "nbformat_minor": 2
}
