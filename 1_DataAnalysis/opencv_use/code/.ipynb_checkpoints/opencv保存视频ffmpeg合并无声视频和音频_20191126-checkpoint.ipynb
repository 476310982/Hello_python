{
 "cells": [
  {
   "cell_type": "code",
   "execution_count": 1,
   "metadata": {},
   "outputs": [],
   "source": [
    "import numpy as np\n",
    "import cv2"
   ]
  },
  {
   "cell_type": "code",
   "execution_count": 2,
   "metadata": {
    "scrolled": true
   },
   "outputs": [
    {
     "name": "stdout",
     "output_type": "stream",
     "text": [
      "480 270\n",
      "1 s\n",
      "2 s\n",
      "3 s\n",
      "4 s\n",
      "5 s\n",
      "6 s\n",
      "7 s\n",
      "8 s\n",
      "9 s\n",
      "(270, 480, 3)\n"
     ]
    }
   ],
   "source": [
    "cap = cv2.VideoCapture('../source/Rewrite The Stars.mp4')\n",
    "title = 'Rewrite The Stars.mp4'\n",
    "\n",
    "w = int(cap.get(propId = cv2.CAP_PROP_FRAME_WIDTH)//2)\n",
    "h = int(cap.get(propId = cv2.CAP_PROP_FRAME_HEIGHT)//2)\n",
    "print(w,h)\n",
    "fps = cap.get(propId = cv2.CAP_PROP_FPS)\n",
    "\n",
    "writer = cv2.VideoWriter('../source/Out/Rewrite The Stars 480x270.mp4',cv2.VideoWriter_fourcc('M','P','4','V'),24,(w,h))\n",
    "index = 0 \n",
    "\n",
    "\n",
    "while True:\n",
    "    flag,frame = cap.read()    \n",
    "    gray = cv2.cvtColor(frame,code = cv2.COLOR_BGR2GRAY)    \n",
    "    #灰度图片是二维数组\n",
    "    gray = cv2.resize(gray,dsize = (w,h))\n",
    "    \n",
    "    gray = gray.reshape(h,w,1)\n",
    "    \n",
    "    #级联 将多个ndarray数组合并到一起\n",
    "    gray = np.concatenate([gray,gray,gray],axis = -1)\n",
    "    index += 1\n",
    "    cv2.imshow(title,gray)\n",
    "\n",
    "#     if (index%fps) == 0:\n",
    "#         print(\"%d s\"%second)\n",
    "    if ord('q') == cv2.waitKey(40):\n",
    "        break\n",
    "    if flag == False:\n",
    "        break\n",
    "    writer.write(gray)    \n",
    "second = int(index//fps)    \n",
    "print(gray.shape)\n",
    "cv2.destroyAllWindows()\n",
    "cap.release()\n"
   ]
  },
  {
   "cell_type": "code",
   "execution_count": 3,
   "metadata": {},
   "outputs": [],
   "source": [
    "import wave"
   ]
  },
  {
   "cell_type": "code",
   "execution_count": 4,
   "metadata": {},
   "outputs": [
    {
     "data": {
      "text/plain": [
       "<wave.Wave_read at 0x15b59bfd908>"
      ]
     },
     "execution_count": 4,
     "metadata": {},
     "output_type": "execute_result"
    }
   ],
   "source": [
    "like = wave.open('../source/Input/邓紫棋-喜欢你.wav')\n",
    "like"
   ]
  },
  {
   "cell_type": "code",
   "execution_count": 5,
   "metadata": {},
   "outputs": [
    {
     "data": {
      "text/plain": [
       "_wave_params(nchannels=2, sampwidth=2, framerate=44100, nframes=10776444, comptype='NONE', compname='not compressed')"
      ]
     },
     "execution_count": 5,
     "metadata": {},
     "output_type": "execute_result"
    }
   ],
   "source": [
    "like.getparams()"
   ]
  },
  {
   "cell_type": "code",
   "execution_count": 6,
   "metadata": {},
   "outputs": [
    {
     "data": {
      "text/plain": [
       "(1077644, 2)"
      ]
     },
     "execution_count": 6,
     "metadata": {},
     "output_type": "execute_result"
    }
   ],
   "source": [
    "data = like.readframes(nframes = 1077644)\n",
    "data = np.frombuffer(data,dtype = np.int16)\n",
    "data = data.reshape(1077644,2)\n",
    "data.shape"
   ]
  },
  {
   "cell_type": "code",
   "execution_count": 7,
   "metadata": {},
   "outputs": [
    {
     "data": {
      "text/plain": [
       "(2155288,)"
      ]
     },
     "execution_count": 7,
     "metadata": {},
     "output_type": "execute_result"
    }
   ],
   "source": [
    "data = np.frombuffer(data,dtype = np.int16)\n",
    "data.shape"
   ]
  },
  {
   "cell_type": "code",
   "execution_count": 9,
   "metadata": {},
   "outputs": [],
   "source": [
    "part1 = data[:second*44100]"
   ]
  },
  {
   "cell_type": "code",
   "execution_count": 11,
   "metadata": {},
   "outputs": [],
   "source": [
    "out = wave.Wave_write('../source/Out/like you.wav')"
   ]
  },
  {
   "cell_type": "code",
   "execution_count": 12,
   "metadata": {},
   "outputs": [],
   "source": [
    "out.setframerate(44100)\n",
    "out.setnchannels(2)\n",
    "out.setsampwidth(2)\n",
    "out.setnframes(second*44100)"
   ]
  },
  {
   "cell_type": "code",
   "execution_count": 13,
   "metadata": {},
   "outputs": [],
   "source": [
    "out.writeframes(part1.tobytes())"
   ]
  },
  {
   "cell_type": "code",
   "execution_count": 15,
   "metadata": {},
   "outputs": [],
   "source": [
    "out.close()\n",
    "like.close()"
   ]
  },
  {
   "cell_type": "code",
   "execution_count": 16,
   "metadata": {},
   "outputs": [],
   "source": [
    "import subprocess"
   ]
  },
  {
   "cell_type": "code",
   "execution_count": 21,
   "metadata": {},
   "outputs": [
    {
     "data": {
      "text/plain": [
       "1"
      ]
     },
     "execution_count": 21,
     "metadata": {},
     "output_type": "execute_result"
    }
   ],
   "source": [
    "in1 = '../source/Out/like you.wav'\n",
    "in2 = '../source/Out/Rewrite The Stars 480x270.mp4'\n",
    "res = '../source/Out/Rewrite The Stars 有声版.mp4'\n",
    "cmd = 'ffmpeg -i'+in1+'-i'+in2+' '+res    \n",
    "subprocess.call(cmd)"
   ]
  }
 ],
 "metadata": {
  "kernelspec": {
   "display_name": "Python 3",
   "language": "python",
   "name": "python3"
  },
  "language_info": {
   "codemirror_mode": {
    "name": "ipython",
    "version": 3
   },
   "file_extension": ".py",
   "mimetype": "text/x-python",
   "name": "python",
   "nbconvert_exporter": "python",
   "pygments_lexer": "ipython3",
   "version": "3.7.4"
  }
 },
 "nbformat": 4,
 "nbformat_minor": 2
}
