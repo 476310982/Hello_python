{
 "cells": [
  {
   "cell_type": "code",
   "execution_count": 1,
   "metadata": {},
   "outputs": [],
   "source": [
    "import numpy as np\n",
    "import cv2"
   ]
  },
  {
   "cell_type": "code",
   "execution_count": 2,
   "metadata": {},
   "outputs": [
    {
     "data": {
      "text/plain": [
       "\"\\nOpenCV提供的格式是未经过压缩的，目前支持的格式如下：\\nCV_FOURCC('P', 'I', 'M', '1') = MPEG-1 codec\\nCV_FOURCC('M', 'J', 'P', 'G') = motion-jpeg codec\\nCV_FOURCC('M', 'P', '4', '2') = MPEG-4.2 codec \\nCV_FOURCC('D', 'I', 'V', '3') = MPEG-4.3 codec \\nCV_FOURCC('D', 'I', 'V', 'X') = MPEG-4 codec \\nCV_FOURCC('U', '2', '6', '3') = H263 codec \\nCV_FOURCC('I', '2', '6', '3') = H263I codec \\nCV_FOURCC('F', 'L', 'V', '1') = FLV1 codec\\n\\n# 视频格式包括: \\n# I420(适合处理大文件) -> .avi;\\n# PIMI -> .avi;\\n# MJPG -> .avi & .mp4\\n# THEO -> .ogv;\\n# FLV1(flash video, 流媒体视频) -> .flv\\n\""
      ]
     },
     "execution_count": 2,
     "metadata": {},
     "output_type": "execute_result"
    }
   ],
   "source": [
    "'''\n",
    "OpenCV提供的格式是未经过压缩的，目前支持的格式如下：\n",
    "CV_FOURCC('P', 'I', 'M', '1') = MPEG-1 codec\n",
    "CV_FOURCC('M', 'J', 'P', 'G') = motion-jpeg codec\n",
    "CV_FOURCC('M', 'P', '4', '2') = MPEG-4.2 codec \n",
    "CV_FOURCC('D', 'I', 'V', '3') = MPEG-4.3 codec \n",
    "CV_FOURCC('D', 'I', 'V', 'X') = MPEG-4 codec \n",
    "CV_FOURCC('U', '2', '6', '3') = H263 codec \n",
    "CV_FOURCC('I', '2', '6', '3') = H263I codec \n",
    "CV_FOURCC('F', 'L', 'V', '1') = FLV1 codec\n",
    "\n",
    "# 视频格式包括: \n",
    "# I420(适合处理大文件) -> .avi;\n",
    "# PIMI -> .avi;\n",
    "# MJPG -> .avi & .mp4\n",
    "# THEO -> .ogv;\n",
    "# FLV1(flash video, 流媒体视频) -> .flv\n",
    "'''"
   ]
  },
  {
   "cell_type": "code",
   "execution_count": 3,
   "metadata": {},
   "outputs": [],
   "source": [
    "#VideoWriter(filename, fourcc, fps, frameSize[, isColor]) -> <VideoWriter object>\n",
    "# 第一个参数是要保存的文件的路径\n",
    "# fourcc 指定编码器\n",
    "# fps 要保存的视频的帧率\n",
    "# frameSize 要保存的文件的画面尺寸\n",
    "# isColor 指示是黑白画面还是彩色的画面"
   ]
  },
  {
   "cell_type": "code",
   "execution_count": 4,
   "metadata": {},
   "outputs": [],
   "source": [
    "cap = cv2.VideoCapture('../source/Rewrite The Stars.mp4')\n",
    "w = int(cap.get(propId = cv2.CAP_PROP_FRAME_WIDTH)) + 1\n",
    "h = int(cap.get(propId = cv2.CAP_PROP_FRAME_HEIGHT)) + 1"
   ]
  },
  {
   "cell_type": "code",
   "execution_count": 5,
   "metadata": {},
   "outputs": [
    {
     "name": "stdout",
     "output_type": "stream",
     "text": [
      "(961, 541)\n"
     ]
    }
   ],
   "source": [
    "# write = cv2.VideoWriter('../source/Rewrite The Stars.avi',cv2.VideoWriter_fourcc('M','P','4','2'),24,(540,960))\n",
    "writer = cv2.VideoWriter('../source/Rewrite The Stars2.mp4',cv2.VideoWriter_fourcc('M','P','4','V'),24,(w,h))\n",
    "# writer = cv2.VideoWriter('../source/stars.flv',cv2.VideoWriter_fourcc('F', 'L', 'V', '1'),24,(541,961))\n",
    "print((w,h))\n",
    "while True:\n",
    "    flag,frame = cap.read()#read([, image]) -> retval, image\n",
    "    cv2.imshow('video',frame)\n",
    "    #保存图片\n",
    "    writer.write(frame)\n",
    "    if ord('q') == cv2.waitKey(40):\n",
    "        break\n",
    "cv2.destroyAllWindows()\n",
    "cap.release()\n",
    "writer.release()"
   ]
  },
  {
   "cell_type": "code",
   "execution_count": null,
   "metadata": {},
   "outputs": [],
   "source": []
  }
 ],
 "metadata": {
  "kernelspec": {
   "display_name": "Python 3",
   "language": "python",
   "name": "python3"
  },
  "language_info": {
   "codemirror_mode": {
    "name": "ipython",
    "version": 3
   },
   "file_extension": ".py",
   "mimetype": "text/x-python",
   "name": "python",
   "nbconvert_exporter": "python",
   "pygments_lexer": "ipython3",
   "version": "3.7.4"
  }
 },
 "nbformat": 4,
 "nbformat_minor": 2
}
