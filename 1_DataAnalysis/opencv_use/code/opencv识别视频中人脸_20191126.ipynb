{
 "cells": [
  {
   "cell_type": "code",
   "execution_count": 1,
   "metadata": {},
   "outputs": [],
   "source": [
    "import numpy as np\n",
    "import cv2\n",
    "import matplotlib.pyplot as plt\n",
    "%matplotlib inline "
   ]
  },
  {
   "cell_type": "code",
   "execution_count": 2,
   "metadata": {},
   "outputs": [
    {
     "data": {
      "text/plain": [
       "<CascadeClassifier 000001D1230ADD90>"
      ]
     },
     "execution_count": 2,
     "metadata": {},
     "output_type": "execute_result"
    }
   ],
   "source": [
    "#人脸特征数据存放路径\n",
    "face_detect_path = r'../../../data/haarcascade_frontalface_default.xml'\n",
    "face_detect = cv2.CascadeClassifier(face_detect_path)\n",
    "face_detect"
   ]
  },
  {
   "cell_type": "code",
   "execution_count": 3,
   "metadata": {},
   "outputs": [],
   "source": [
    "cap = cv2.VideoCapture('../source/shipin.mp4')"
   ]
  },
  {
   "cell_type": "code",
   "execution_count": 4,
   "metadata": {},
   "outputs": [
    {
     "data": {
      "text/plain": [
       "25.0"
      ]
     },
     "execution_count": 4,
     "metadata": {},
     "output_type": "execute_result"
    }
   ],
   "source": [
    "#get(propId) -> retval\n",
    "#CAP_PROP_FPS 指视频帧数\n",
    "FPS = cap.get(propId = cv2.CAP_PROP_FPS)\n",
    "FPS"
   ]
  },
  {
   "cell_type": "code",
   "execution_count": 5,
   "metadata": {},
   "outputs": [],
   "source": [
    "while True:\n",
    "    flag,frame = cap.read()\n",
    "    if flag == False:\n",
    "        break\n",
    "    #转成灰度图片\n",
    "    gray = cv2.cvtColor(frame,code = cv2.COLOR_BGR2GRAY)\n",
    "    #detectMultiScale(image[, scaleFactor[, minNeighbors[, flags[, minSize[, maxSize]]]]])\n",
    "    face_zone = face_detect.detectMultiScale(gray,scaleFactor = 1.1,minNeighbors = 5)\n",
    "#     print (face_zone)\n",
    "    for x,y,w,h in face_zone:\n",
    "        cv2.rectangle(frame,pt1 = (x,y),pt2 = (x+w,y+h),color = [0,0,255],thickness = 2)\n",
    "        cv2.circle(frame,center = (x+w//2,y+h//2),radius = w//2,color = [0,255,0],thickness = 2)\n",
    "    \n",
    "    cv2.imshow('video',frame)\n",
    "    \n",
    "    \n",
    "    if ord('q') == cv2.waitKey(15):\n",
    "        break\n",
    "\n",
    "cv2.destroyAllWindows()\n",
    "cap.release()\n",
    "    "
   ]
  },
  {
   "cell_type": "code",
   "execution_count": 6,
   "metadata": {},
   "outputs": [],
   "source": [
    "#识别摄像头人脸\n",
    "cap = cv2.VideoCapture(0)\n",
    "while True:\n",
    "    flag,frame = cap.read()\n",
    "    if flag == False:\n",
    "        break\n",
    "    #转成灰度图片\n",
    "    gray = cv2.cvtColor(frame,code = cv2.COLOR_BGR2GRAY)\n",
    "    #detectMultiScale(image[, scaleFactor[, minNeighbors[, flags[, minSize[, maxSize]]]]])\n",
    "    face_zone = face_detect.detectMultiScale(gray,scaleFactor = 1.1,minNeighbors = 5)\n",
    "#     print (face_zone)\n",
    "    for x,y,w,h in face_zone:\n",
    "        cv2.rectangle(frame,pt1 = (x,y),pt2 = (x+w,y+h),color = [0,0,255],thickness = 2)\n",
    "        cv2.circle(frame,center = (x+w//2,y+h//2),radius = w//2,color = [0,255,0],thickness = 2)\n",
    "    \n",
    "    cv2.imshow('video',frame)\n",
    "    \n",
    "    \n",
    "    if ord('q') == cv2.waitKey(15):\n",
    "        break\n",
    "\n",
    "cv2.destroyAllWindows()\n",
    "cap.release()\n"
   ]
  }
 ],
 "metadata": {
  "kernelspec": {
   "display_name": "Python 3",
   "language": "python",
   "name": "python3"
  },
  "language_info": {
   "codemirror_mode": {
    "name": "ipython",
    "version": 3
   },
   "file_extension": ".py",
   "mimetype": "text/x-python",
   "name": "python",
   "nbconvert_exporter": "python",
   "pygments_lexer": "ipython3",
   "version": "3.7.4"
  }
 },
 "nbformat": 4,
 "nbformat_minor": 2
}
