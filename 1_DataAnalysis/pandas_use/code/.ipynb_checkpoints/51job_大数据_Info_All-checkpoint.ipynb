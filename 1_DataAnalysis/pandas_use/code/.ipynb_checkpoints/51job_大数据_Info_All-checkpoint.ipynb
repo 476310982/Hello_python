{
 "cells": [
  {
   "cell_type": "code",
   "execution_count": 1,
   "metadata": {},
   "outputs": [],
   "source": [
    "import numpy as np\n",
    "import pandas as pd\n",
    "from pandas import Series,DataFrame"
   ]
  },
  {
   "cell_type": "code",
   "execution_count": 2,
   "metadata": {},
   "outputs": [
    {
     "name": "stdout",
     "output_type": "stream",
     "text": [
      "<class 'pandas.core.frame.DataFrame'>\n"
     ]
    }
   ],
   "source": [
    "df = pd.read_csv('../source/51job_大数据_Info_All.dat',engine='python',sep=',',names=['job','com','add','sal','date'],encoding='utf-8')\n",
    "print(type(df))"
   ]
  },
  {
   "cell_type": "code",
   "execution_count": 3,
   "metadata": {},
   "outputs": [
    {
     "data": {
      "text/html": [
       "<div>\n",
       "<style scoped>\n",
       "    .dataframe tbody tr th:only-of-type {\n",
       "        vertical-align: middle;\n",
       "    }\n",
       "\n",
       "    .dataframe tbody tr th {\n",
       "        vertical-align: top;\n",
       "    }\n",
       "\n",
       "    .dataframe thead th {\n",
       "        text-align: right;\n",
       "    }\n",
       "</style>\n",
       "<table border=\"1\" class=\"dataframe\">\n",
       "  <thead>\n",
       "    <tr style=\"text-align: right;\">\n",
       "      <th></th>\n",
       "      <th>job</th>\n",
       "      <th>com</th>\n",
       "      <th>add</th>\n",
       "      <th>sal</th>\n",
       "      <th>date</th>\n",
       "    </tr>\n",
       "  </thead>\n",
       "  <tbody>\n",
       "    <tr>\n",
       "      <td>0</td>\n",
       "      <td>大数据电商运营助理</td>\n",
       "      <td>福州咸鱼科技有限公司</td>\n",
       "      <td>福州</td>\n",
       "      <td>0.8-1万/月</td>\n",
       "      <td>12-04</td>\n",
       "    </tr>\n",
       "    <tr>\n",
       "      <td>1</td>\n",
       "      <td>大数据研发工程师</td>\n",
       "      <td>福建元鼎磐基科技有限公司</td>\n",
       "      <td>福州-台江区</td>\n",
       "      <td>0.8-1.5万/月</td>\n",
       "      <td>12-04</td>\n",
       "    </tr>\n",
       "    <tr>\n",
       "      <td>2</td>\n",
       "      <td>大数据研发工程师</td>\n",
       "      <td>浙江星嘉合科技有限公司福建分公司...</td>\n",
       "      <td>福州-台江区</td>\n",
       "      <td>0.8-1.5万/月</td>\n",
       "      <td>12-04</td>\n",
       "    </tr>\n",
       "    <tr>\n",
       "      <td>3</td>\n",
       "      <td>大数据架构师</td>\n",
       "      <td>中电（福建）健康医疗大数据运营服...</td>\n",
       "      <td>福州-长乐市</td>\n",
       "      <td>1.5-2.5万/月</td>\n",
       "      <td>12-04</td>\n",
       "    </tr>\n",
       "    <tr>\n",
       "      <td>4</td>\n",
       "      <td>大数据运维工程师-福州</td>\n",
       "      <td>中电福富信息科技有限公司</td>\n",
       "      <td>福州</td>\n",
       "      <td>0.8-1万/月</td>\n",
       "      <td>12-04</td>\n",
       "    </tr>\n",
       "  </tbody>\n",
       "</table>\n",
       "</div>"
      ],
      "text/plain": [
       "           job                  com     add         sal   date\n",
       "0    大数据电商运营助理           福州咸鱼科技有限公司      福州    0.8-1万/月  12-04\n",
       "1     大数据研发工程师         福建元鼎磐基科技有限公司  福州-台江区  0.8-1.5万/月  12-04\n",
       "2     大数据研发工程师  浙江星嘉合科技有限公司福建分公司...  福州-台江区  0.8-1.5万/月  12-04\n",
       "3       大数据架构师  中电（福建）健康医疗大数据运营服...  福州-长乐市  1.5-2.5万/月  12-04\n",
       "4  大数据运维工程师-福州         中电福富信息科技有限公司      福州    0.8-1万/月  12-04"
      ]
     },
     "execution_count": 3,
     "metadata": {},
     "output_type": "execute_result"
    }
   ],
   "source": [
    "df.head()"
   ]
  },
  {
   "cell_type": "code",
   "execution_count": 6,
   "metadata": {},
   "outputs": [
    {
     "ename": "TypeError",
     "evalue": "'int' object is not callable",
     "output_type": "error",
     "traceback": [
      "\u001b[1;31m---------------------------------------------------------------------------\u001b[0m",
      "\u001b[1;31mTypeError\u001b[0m                                 Traceback (most recent call last)",
      "\u001b[1;32m<ipython-input-6-65a959c7fae1>\u001b[0m in \u001b[0;36m<module>\u001b[1;34m\u001b[0m\n\u001b[1;32m----> 1\u001b[1;33m \u001b[0mdf\u001b[0m\u001b[1;33m[\u001b[0m\u001b[1;34m'add'\u001b[0m\u001b[1;33m]\u001b[0m\u001b[1;33m.\u001b[0m\u001b[0msize\u001b[0m\u001b[1;33m(\u001b[0m\u001b[1;33m)\u001b[0m\u001b[1;33m\u001b[0m\u001b[1;33m\u001b[0m\u001b[0m\n\u001b[0m",
      "\u001b[1;31mTypeError\u001b[0m: 'int' object is not callable"
     ]
    }
   ],
   "source": []
  },
  {
   "cell_type": "code",
   "execution_count": null,
   "metadata": {},
   "outputs": [],
   "source": []
  }
 ],
 "metadata": {
  "kernelspec": {
   "display_name": "Python 3",
   "language": "python",
   "name": "python3"
  },
  "language_info": {
   "codemirror_mode": {
    "name": "ipython",
    "version": 3
   },
   "file_extension": ".py",
   "mimetype": "text/x-python",
   "name": "python",
   "nbconvert_exporter": "python",
   "pygments_lexer": "ipython3",
   "version": "3.7.4"
  }
 },
 "nbformat": 4,
 "nbformat_minor": 2
}
