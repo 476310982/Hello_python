{
 "cells": [
  {
   "cell_type": "code",
   "execution_count": 1,
   "metadata": {},
   "outputs": [],
   "source": [
    "import numpy as np\n",
    "import matplotlib.pyplot as plt\n",
    "%matplotlib inline\n",
    "import cv2"
   ]
  },
  {
   "cell_type": "code",
   "execution_count": 2,
   "metadata": {},
   "outputs": [],
   "source": [
    "#人脸是有特征数据的\n",
    "#根据cv2算法，可以根据特征查找人脸"
   ]
  },
  {
   "cell_type": "code",
   "execution_count": 3,
   "metadata": {},
   "outputs": [],
   "source": [
    "huazai = cv2.imread('../source/huazai.jpg')"
   ]
  },
  {
   "cell_type": "code",
   "execution_count": 4,
   "metadata": {
    "scrolled": true
   },
   "outputs": [
    {
     "data": {
      "text/plain": [
       "<CascadeClassifier 00000200624A8050>"
      ]
     },
     "execution_count": 4,
     "metadata": {},
     "output_type": "execute_result"
    }
   ],
   "source": [
    "#声明算法,注意路径 最好用绝对路径\n",
    "face_detect_path = r'../../../data/haarcascade_frontalface_default.xml'\n",
    "face_detect = cv2.CascadeClassifier(face_detect_path)\n",
    "face_detect"
   ]
  },
  {
   "cell_type": "code",
   "execution_count": 5,
   "metadata": {},
   "outputs": [
    {
     "name": "stdout",
     "output_type": "stream",
     "text": [
      "[[121 110 219 219]]\n"
     ]
    }
   ],
   "source": [
    "face_zone = face_detect.detectMultiScale(huazai,scaleFactor = 1.1,minNeighbors = 5)\n",
    "print(face_zone)"
   ]
  },
  {
   "cell_type": "code",
   "execution_count": 6,
   "metadata": {},
   "outputs": [],
   "source": [
    "# face_zone_1 = face_zone.flatten() #将多维数组变成一维数组\n",
    "#人脸坐标\n",
    "for x,y,w,h in face_zone:\n",
    "    #绘制人脸区域\n",
    "    #cv2.circle(img, center, radius, color[, thickness[, lineType[, shift]]])\n",
    "    #cv2.rectangle(img, pt1, pt2, color[, thickness[, lineType[, shift]]])\n",
    "    #绘制方形\n",
    "    cv2.rectangle(huazai,pt1 = (x,y),pt2 = (x+w,y+h),color = [0,0,255])"
   ]
  },
  {
   "cell_type": "code",
   "execution_count": 7,
   "metadata": {},
   "outputs": [],
   "source": [
    "cv2.imshow('Liudehua',huazai)\n",
    "cv2.waitKey(0)\n",
    "cv2.destroyAllWindows()"
   ]
  }
 ],
 "metadata": {
  "kernelspec": {
   "display_name": "Python 3",
   "language": "python",
   "name": "python3"
  },
  "language_info": {
   "codemirror_mode": {
    "name": "ipython",
    "version": 3
   },
   "file_extension": ".py",
   "mimetype": "text/x-python",
   "name": "python",
   "nbconvert_exporter": "python",
   "pygments_lexer": "ipython3",
   "version": "3.7.4"
  }
 },
 "nbformat": 4,
 "nbformat_minor": 2
}
