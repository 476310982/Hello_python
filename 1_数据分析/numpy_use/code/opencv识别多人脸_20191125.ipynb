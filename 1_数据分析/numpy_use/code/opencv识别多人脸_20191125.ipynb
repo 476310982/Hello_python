{
 "cells": [
  {
   "cell_type": "code",
   "execution_count": 1,
   "metadata": {},
   "outputs": [],
   "source": [
    "import numpy as np\n",
    "import cv2\n",
    "import matplotlib.pyplot as plt\n",
    "%matplotlib inline"
   ]
  },
  {
   "cell_type": "code",
   "execution_count": 2,
   "metadata": {},
   "outputs": [
    {
     "data": {
      "text/plain": [
       "<CascadeClassifier 00000268F2FA9050>"
      ]
     },
     "execution_count": 2,
     "metadata": {},
     "output_type": "execute_result"
    }
   ],
   "source": [
    "face_detect_path = r'../../../data/haarcascade_frontalface_default.xml'\n",
    "face_detect = cv2.CascadeClassifier(face_detect_path)\n",
    "face_detect"
   ]
  },
  {
   "cell_type": "code",
   "execution_count": 5,
   "metadata": {},
   "outputs": [],
   "source": [
    "img = cv2.imread(r'../source/nba.jpg')\n",
    "# img = cv2.imread(r'../source/nba2.jpg')\n",
    "# img = cv2.imread(r'../source/nba3.jpg')\n",
    "gray = cv2.cvtColor(img,code = cv2.COLOR_BGR2GRAY)\n",
    "face_zone = face_detect.detectMultiScale(gray,scaleFactor = 1.1,minNeighbors = 5)\n",
    "# face_detect.detectMultiScale()\n",
    "# print(face_zone)\n",
    "\n",
    "for x,y,w,h in face_zone:\n",
    "#     cv2.rectangle(img, pt1, pt2, color[, thickness[, lineType[, shift]]])\n",
    "    cv2.rectangle(img,pt1 = (x,y),pt2 = (x+w,y+h),color = [0,0,255],thickness = 2)\n",
    "    #cv2.circle(img, center, radius, color[, thickness[, lineType[, shift]]])\n",
    "    cv2.circle(img,(x + w//2,y + h//2),radius = w//2,color = [0,255,0],thickness = 2)\n",
    "cv2.imshow('nab',img)\n",
    "cv2.waitKey(0)#无限等待\n",
    "cv2.destroyAllWindows()\n"
   ]
  },
  {
   "cell_type": "code",
   "execution_count": null,
   "metadata": {},
   "outputs": [],
   "source": []
  }
 ],
 "metadata": {
  "kernelspec": {
   "display_name": "Python 3",
   "language": "python",
   "name": "python3"
  },
  "language_info": {
   "codemirror_mode": {
    "name": "ipython",
    "version": 3
   },
   "file_extension": ".py",
   "mimetype": "text/x-python",
   "name": "python",
   "nbconvert_exporter": "python",
   "pygments_lexer": "ipython3",
   "version": "3.7.4"
  }
 },
 "nbformat": 4,
 "nbformat_minor": 2
}
